{
 "cells": [
  {
   "cell_type": "markdown",
   "metadata": {},
   "source": [
    "# 1. Source"
   ]
  },
  {
   "cell_type": "markdown",
   "metadata": {},
   "source": [
    "https://platform.stratascratch.com/coding/2028-new-and-existing-users?tabname=question&code_type=1"
   ]
  },
  {
   "cell_type": "markdown",
   "metadata": {},
   "source": [
    "# 2. Description of the table"
   ]
  },
  {
   "cell_type": "markdown",
   "metadata": {},
   "source": [
    "fact_events table:"
   ]
  },
  {
   "cell_type": "code",
   "execution_count": null,
   "metadata": {},
   "outputs": [],
   "source": [
    "id:          int \n",
    "time_id:     datetime\n",
    "user_id:     varchar\n",
    "customer_id: varchar\n",
    "client_id:   varchar\n",
    "event_type:  varchar\n",
    "event_id:    int"
   ]
  },
  {
   "cell_type": "markdown",
   "metadata": {},
   "source": [
    "![table](table_.png)"
   ]
  },
  {
   "cell_type": "markdown",
   "metadata": {},
   "source": [
    "# 3. The challenge"
   ]
  },
  {
   "cell_type": "markdown",
   "metadata": {},
   "source": [
    "Calculate the share of new and existing users for each month in the table. \n",
    "Output the month, share of new users, and share of existing users as a ratio.\n",
    "\n",
    "New users are defined as users who started using services in the current month (there is no usage history in previous months). Existing users are users who used services in current month, but they also used services in any previous month.\n",
    "Assume that the dates are all from the year 2020."
   ]
  },
  {
   "cell_type": "markdown",
   "metadata": {},
   "source": [
    "# 4. Postgres Code"
   ]
  },
  {
   "cell_type": "code",
   "execution_count": null,
   "metadata": {},
   "outputs": [],
   "source": [
    "with cte as(\n",
    "select\n",
    "    date_part('month' , time_id)  as month,\n",
    "    count( distinct user_id)\n",
    "from fact_events\n",
    "group by 1),\n",
    "\n",
    "month2_users as(\n",
    "select\n",
    "    distinct user_id\n",
    "from fact_events\n",
    "where date_part('month' , time_id) = 2),\n",
    "\n",
    "month3_users as(\n",
    "select \n",
    "    distinct user_id\n",
    "from fact_events\n",
    "where date_part('month' , time_id) = 3\n",
    "and user_id not in(select * from month2_users)\n",
    "),\n",
    "\n",
    "month4_users as(\n",
    "select \n",
    "    distinct user_id\n",
    "from fact_events\n",
    "where date_part('month' , time_id) = 4\n",
    "and user_id not in(select * from month2_users)\n",
    "and user_id not in(select * from month3_users)\n",
    "),\n",
    "\n",
    "month3_and_2_users as(\n",
    "select\n",
    "    user_id\n",
    "from month2_users\n",
    "union\n",
    "select \n",
    "    user_id\n",
    "from month3_users\n",
    "),\n",
    "\n",
    "month4_and_3_users as (\n",
    "select\n",
    "    user_id\n",
    "from month3_users\n",
    "union\n",
    "select \n",
    "    user_id\n",
    "from month4_users\n",
    "),\n",
    "\n",
    "new_user_count as(\n",
    "select\n",
    "    2 as month,\n",
    "    count(*)\n",
    "from (select * from month2_users) as sub1\n",
    "union\n",
    "select\n",
    "    3 as month,\n",
    "    count(*)\n",
    "from (select * from month3_users) as sub1\n",
    "union\n",
    "select\n",
    "    4 as month,\n",
    "    count(*)\n",
    "from (select * from month4_users) as sub1\n",
    "order by month),\n",
    "\n",
    "share_of_new_users_table as(\n",
    "select \n",
    "    nuc.month,\n",
    "    nuc.count as new_users,\n",
    "    c.count as month_user_count,\n",
    "    nuc.count::numeric / c.count as share_new_users\n",
    "from new_user_count as nuc \n",
    "join cte as c \n",
    "on nuc.month = c.month),\n",
    "\n",
    "months_2_and_3 as(\n",
    "select \n",
    "    count(user_id)\n",
    "from (\n",
    "select \n",
    "    distinct user_id\n",
    "from fact_events\n",
    "where date_part('month' , time_id) = 3\n",
    "and user_id in(select * from month2_users)\n",
    ") as s),\n",
    "\n",
    "\n",
    "months_2_and_3_4 as(\n",
    "select \n",
    "    count(distinct user_id)\n",
    "from (\n",
    "select \n",
    "    distinct user_id\n",
    "from fact_events\n",
    "where date_part('month' , time_id) = 4\n",
    "and user_id in(select * from month3_and_2_users)\n",
    ") as s),\n",
    "\n",
    "existing_users_table as(\n",
    "select \n",
    "    2 as month,\n",
    "    0 as existing_users\n",
    "union\n",
    "select\n",
    "    3 as month,\n",
    "    count as existing_users\n",
    "from \n",
    "    months_2_and_3\n",
    "union\n",
    "select\n",
    "    4 as month,\n",
    "    count as existing_users\n",
    "from months_2_and_3_4\n",
    "order by month),\n",
    "\n",
    "final as(\n",
    "select\n",
    "    n.month,\n",
    "    n.new_users,\n",
    "    n.month_user_count,\n",
    "    n.share_new_users,\n",
    "    e.existing_users,\n",
    "    e.existing_users::numeric / n.month_user_count as share_existing_users\n",
    "from share_of_new_users_table n \n",
    "join existing_users_table e \n",
    "on n.month =  e.month)\n",
    "\n",
    "select  \n",
    "    month,share_new_users,share_existing_users\n",
    "from final\n",
    ";"
   ]
  },
  {
   "cell_type": "markdown",
   "metadata": {},
   "source": [
    "# 5.Output / Solution"
   ]
  },
  {
   "cell_type": "markdown",
   "metadata": {},
   "source": [
    "![hey](solution.png)"
   ]
  },
  {
   "cell_type": "code",
   "execution_count": null,
   "metadata": {},
   "outputs": [],
   "source": []
  }
 ],
 "metadata": {
  "kernelspec": {
   "display_name": "Python 3",
   "language": "python",
   "name": "python3"
  },
  "language_info": {
   "codemirror_mode": {
    "name": "ipython",
    "version": 3
   },
   "file_extension": ".py",
   "mimetype": "text/x-python",
   "name": "python",
   "nbconvert_exporter": "python",
   "pygments_lexer": "ipython3",
   "version": "3.7.0"
  }
 },
 "nbformat": 4,
 "nbformat_minor": 2
}
